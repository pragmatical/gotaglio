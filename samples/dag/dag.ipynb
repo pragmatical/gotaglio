{
 "cells": [
  {
   "cell_type": "markdown",
   "id": "642b1a65",
   "metadata": {},
   "source": [
    "# DAG Sample"
   ]
  },
  {
   "cell_type": "markdown",
   "id": "5eb20f16",
   "metadata": {},
   "source": [
    "This pipeline implements a [directed acyclic graph (DAG)](https://en.wikipedia.org/wiki/Directed_acyclic_graph) of stage functions.\n",
    "The pipeline has six stages, `A`, `B`, `C`, `D`, `E`, and `F`.\n",
    "For the purposes of the demo, each stage sleeps for tens of milliseonds and then completes.\n",
    "Here is the structure of the DAG:\n",
    "\n",
    "![](../../documentation/dag.png)\n",
    "\n",
    "This graph represents the following stage function dependencies:\n",
    "* `B` and `C` can't run until `A` completes.\n",
    "* `D` depends on `B` and `C`\n",
    "* `F` depends on `D` and `E`\n",
    "\n",
    "We'll start by importing the pipeline:"
   ]
  },
  {
   "cell_type": "code",
   "execution_count": 1,
   "id": "92e85100",
   "metadata": {},
   "outputs": [],
   "source": [
    "from dag import dag_pipeline_spec"
   ]
  },
  {
   "cell_type": "markdown",
   "id": "5ce78ae7",
   "metadata": {},
   "source": [
    "The DAG pipeline doesn't actually read its test cases, but we need to define one empty case so that Gotaglio's `run()` method will invoke the pipeline."
   ]
  },
  {
   "cell_type": "code",
   "execution_count": 2,
   "id": "509855e9",
   "metadata": {},
   "outputs": [],
   "source": [
    "cases = [\n",
    "  {\n",
    "    \"uuid\": \"6919a246-945f-4d93-b39d-d798244dd08e\",\n",
    "  },\n",
    "]"
   ]
  },
  {
   "cell_type": "markdown",
   "id": "04b99f9b",
   "metadata": {},
   "source": [
    "Instantiate the Gotaglio object that runs the pipeline."
   ]
  },
  {
   "cell_type": "code",
   "execution_count": 3,
   "id": "f5941c4e",
   "metadata": {},
   "outputs": [],
   "source": [
    "from gotaglio.gotag import Gotaglio\n",
    "\n",
    "gt = Gotaglio([dag_pipeline_spec])"
   ]
  },
  {
   "cell_type": "markdown",
   "id": "92b61278",
   "metadata": {},
   "source": [
    "Run the pipeline. The summarize() method generates a table that shows the execution of the stages over time.\n",
    "Each row corresponds to a point in time where a stage function started or stopped. The green highlight\n",
    "indicates when stages were running."
   ]
  },
  {
   "cell_type": "code",
   "execution_count": 4,
   "id": "fb9a1774",
   "metadata": {},
   "outputs": [
    {
     "data": {
      "text/html": [
       "<pre style=\"white-space:pre;overflow-x:auto;line-height:normal;font-family:Menlo,'DejaVu Sans Mono',consolas,'Courier New',monospace\"><span style=\"font-style: italic\">             Timeline for case              </span>\n",
       "<span style=\"font-style: italic\">    6919a246-945f-4d93-b39d-d798244dd08e    </span>\n",
       "┏━━━━━━┳━━━━━┳━━━━━┳━━━━━┳━━━━━┳━━━━━┳━━━━━┓\n",
       "┃<span style=\"font-weight: bold\"> step </span>┃<span style=\"font-weight: bold\">  A  </span>┃<span style=\"font-weight: bold\">  B  </span>┃<span style=\"font-weight: bold\">  C  </span>┃<span style=\"font-weight: bold\">  D  </span>┃<span style=\"font-weight: bold\">  E  </span>┃<span style=\"font-weight: bold\">  F  </span>┃\n",
       "┡━━━━━━╇━━━━━╇━━━━━╇━━━━━╇━━━━━╇━━━━━╇━━━━━┩\n",
       "│<span style=\"color: #008080; text-decoration-color: #008080\">    1 </span>│<span style=\"color: #008080; text-decoration-color: #008080\"> </span><span style=\"color: #008000; text-decoration-color: #008000; background-color: #008000\"> x </span><span style=\"color: #008080; text-decoration-color: #008080\"> </span>│<span style=\"color: #008080; text-decoration-color: #008080\">     </span>│<span style=\"color: #008080; text-decoration-color: #008080\">     </span>│<span style=\"color: #008080; text-decoration-color: #008080\">     </span>│<span style=\"color: #008080; text-decoration-color: #008080\">     </span>│<span style=\"color: #008080; text-decoration-color: #008080\">     </span>│\n",
       "│<span style=\"color: #008080; text-decoration-color: #008080\">    2 </span>│<span style=\"color: #008080; text-decoration-color: #008080\"> </span><span style=\"color: #008000; text-decoration-color: #008000; background-color: #008000\"> x </span><span style=\"color: #008080; text-decoration-color: #008080\"> </span>│<span style=\"color: #008080; text-decoration-color: #008080\">     </span>│<span style=\"color: #008080; text-decoration-color: #008080\">     </span>│<span style=\"color: #008080; text-decoration-color: #008080\">     </span>│<span style=\"color: #008080; text-decoration-color: #008080\"> </span><span style=\"color: #008000; text-decoration-color: #008000; background-color: #008000\"> x </span><span style=\"color: #008080; text-decoration-color: #008080\"> </span>│<span style=\"color: #008080; text-decoration-color: #008080\">     </span>│\n",
       "│<span style=\"color: #008080; text-decoration-color: #008080\">    3 </span>│<span style=\"color: #008080; text-decoration-color: #008080\"> </span><span style=\"color: #008000; text-decoration-color: #008000; background-color: #008000\"> x </span><span style=\"color: #008080; text-decoration-color: #008080\"> </span>│<span style=\"color: #008080; text-decoration-color: #008080\">     </span>│<span style=\"color: #008080; text-decoration-color: #008080\">     </span>│<span style=\"color: #008080; text-decoration-color: #008080\">     </span>│<span style=\"color: #008080; text-decoration-color: #008080\"> </span><span style=\"color: #008000; text-decoration-color: #008000; background-color: #008000\"> x </span><span style=\"color: #008080; text-decoration-color: #008080\"> </span>│<span style=\"color: #008080; text-decoration-color: #008080\">     </span>│\n",
       "│<span style=\"color: #008080; text-decoration-color: #008080\">    4 </span>│<span style=\"color: #008080; text-decoration-color: #008080\">     </span>│<span style=\"color: #008080; text-decoration-color: #008080\">     </span>│<span style=\"color: #008080; text-decoration-color: #008080\">     </span>│<span style=\"color: #008080; text-decoration-color: #008080\">     </span>│<span style=\"color: #008080; text-decoration-color: #008080\"> </span><span style=\"color: #008000; text-decoration-color: #008000; background-color: #008000\"> x </span><span style=\"color: #008080; text-decoration-color: #008080\"> </span>│<span style=\"color: #008080; text-decoration-color: #008080\">     </span>│\n",
       "│<span style=\"color: #008080; text-decoration-color: #008080\">    5 </span>│<span style=\"color: #008080; text-decoration-color: #008080\">     </span>│<span style=\"color: #008080; text-decoration-color: #008080\"> </span><span style=\"color: #008000; text-decoration-color: #008000; background-color: #008000\"> x </span><span style=\"color: #008080; text-decoration-color: #008080\"> </span>│<span style=\"color: #008080; text-decoration-color: #008080\">     </span>│<span style=\"color: #008080; text-decoration-color: #008080\">     </span>│<span style=\"color: #008080; text-decoration-color: #008080\">     </span>│<span style=\"color: #008080; text-decoration-color: #008080\">     </span>│\n",
       "│<span style=\"color: #008080; text-decoration-color: #008080\">    6 </span>│<span style=\"color: #008080; text-decoration-color: #008080\">     </span>│<span style=\"color: #008080; text-decoration-color: #008080\"> </span><span style=\"color: #008000; text-decoration-color: #008000; background-color: #008000\"> x </span><span style=\"color: #008080; text-decoration-color: #008080\"> </span>│<span style=\"color: #008080; text-decoration-color: #008080\"> </span><span style=\"color: #008000; text-decoration-color: #008000; background-color: #008000\"> x </span><span style=\"color: #008080; text-decoration-color: #008080\"> </span>│<span style=\"color: #008080; text-decoration-color: #008080\">     </span>│<span style=\"color: #008080; text-decoration-color: #008080\">     </span>│<span style=\"color: #008080; text-decoration-color: #008080\">     </span>│\n",
       "│<span style=\"color: #008080; text-decoration-color: #008080\">    7 </span>│<span style=\"color: #008080; text-decoration-color: #008080\">     </span>│<span style=\"color: #008080; text-decoration-color: #008080\"> </span><span style=\"color: #008000; text-decoration-color: #008000; background-color: #008000\"> x </span><span style=\"color: #008080; text-decoration-color: #008080\"> </span>│<span style=\"color: #008080; text-decoration-color: #008080\"> </span><span style=\"color: #008000; text-decoration-color: #008000; background-color: #008000\"> x </span><span style=\"color: #008080; text-decoration-color: #008080\"> </span>│<span style=\"color: #008080; text-decoration-color: #008080\">     </span>│<span style=\"color: #008080; text-decoration-color: #008080\">     </span>│<span style=\"color: #008080; text-decoration-color: #008080\">     </span>│\n",
       "│<span style=\"color: #008080; text-decoration-color: #008080\">    8 </span>│<span style=\"color: #008080; text-decoration-color: #008080\">     </span>│<span style=\"color: #008080; text-decoration-color: #008080\">     </span>│<span style=\"color: #008080; text-decoration-color: #008080\"> </span><span style=\"color: #008000; text-decoration-color: #008000; background-color: #008000\"> x </span><span style=\"color: #008080; text-decoration-color: #008080\"> </span>│<span style=\"color: #008080; text-decoration-color: #008080\">     </span>│<span style=\"color: #008080; text-decoration-color: #008080\">     </span>│<span style=\"color: #008080; text-decoration-color: #008080\">     </span>│\n",
       "│<span style=\"color: #008080; text-decoration-color: #008080\">    9 </span>│<span style=\"color: #008080; text-decoration-color: #008080\">     </span>│<span style=\"color: #008080; text-decoration-color: #008080\">     </span>│<span style=\"color: #008080; text-decoration-color: #008080\">     </span>│<span style=\"color: #008080; text-decoration-color: #008080\"> </span><span style=\"color: #008000; text-decoration-color: #008000; background-color: #008000\"> x </span><span style=\"color: #008080; text-decoration-color: #008080\"> </span>│<span style=\"color: #008080; text-decoration-color: #008080\">     </span>│<span style=\"color: #008080; text-decoration-color: #008080\">     </span>│\n",
       "│<span style=\"color: #008080; text-decoration-color: #008080\">   10 </span>│<span style=\"color: #008080; text-decoration-color: #008080\">     </span>│<span style=\"color: #008080; text-decoration-color: #008080\">     </span>│<span style=\"color: #008080; text-decoration-color: #008080\">     </span>│<span style=\"color: #008080; text-decoration-color: #008080\"> </span><span style=\"color: #008000; text-decoration-color: #008000; background-color: #008000\"> x </span><span style=\"color: #008080; text-decoration-color: #008080\"> </span>│<span style=\"color: #008080; text-decoration-color: #008080\">     </span>│<span style=\"color: #008080; text-decoration-color: #008080\">     </span>│\n",
       "│<span style=\"color: #008080; text-decoration-color: #008080\">   11 </span>│<span style=\"color: #008080; text-decoration-color: #008080\">     </span>│<span style=\"color: #008080; text-decoration-color: #008080\">     </span>│<span style=\"color: #008080; text-decoration-color: #008080\">     </span>│<span style=\"color: #008080; text-decoration-color: #008080\">     </span>│<span style=\"color: #008080; text-decoration-color: #008080\">     </span>│<span style=\"color: #008080; text-decoration-color: #008080\"> </span><span style=\"color: #008000; text-decoration-color: #008000; background-color: #008000\"> x </span><span style=\"color: #008080; text-decoration-color: #008080\"> </span>│\n",
       "│<span style=\"color: #008080; text-decoration-color: #008080\">   12 </span>│<span style=\"color: #008080; text-decoration-color: #008080\">     </span>│<span style=\"color: #008080; text-decoration-color: #008080\">     </span>│<span style=\"color: #008080; text-decoration-color: #008080\">     </span>│<span style=\"color: #008080; text-decoration-color: #008080\">     </span>│<span style=\"color: #008080; text-decoration-color: #008080\">     </span>│<span style=\"color: #008080; text-decoration-color: #008080\"> </span><span style=\"color: #008000; text-decoration-color: #008000; background-color: #008000\"> x </span><span style=\"color: #008080; text-decoration-color: #008080\"> </span>│\n",
       "└──────┴─────┴─────┴─────┴─────┴─────┴─────┘\n",
       "</pre>\n"
      ],
      "text/plain": [
       "\u001b[3m             Timeline for case              \u001b[0m\n",
       "\u001b[3m    6919a246-945f-4d93-b39d-d798244dd08e    \u001b[0m\n",
       "┏━━━━━━┳━━━━━┳━━━━━┳━━━━━┳━━━━━┳━━━━━┳━━━━━┓\n",
       "┃\u001b[1m \u001b[0m\u001b[1mstep\u001b[0m\u001b[1m \u001b[0m┃\u001b[1m \u001b[0m\u001b[1m A \u001b[0m\u001b[1m \u001b[0m┃\u001b[1m \u001b[0m\u001b[1m B \u001b[0m\u001b[1m \u001b[0m┃\u001b[1m \u001b[0m\u001b[1m C \u001b[0m\u001b[1m \u001b[0m┃\u001b[1m \u001b[0m\u001b[1m D \u001b[0m\u001b[1m \u001b[0m┃\u001b[1m \u001b[0m\u001b[1m E \u001b[0m\u001b[1m \u001b[0m┃\u001b[1m \u001b[0m\u001b[1m F \u001b[0m\u001b[1m \u001b[0m┃\n",
       "┡━━━━━━╇━━━━━╇━━━━━╇━━━━━╇━━━━━╇━━━━━╇━━━━━┩\n",
       "│\u001b[36m \u001b[0m\u001b[36m   1\u001b[0m\u001b[36m \u001b[0m│\u001b[36m \u001b[0m\u001b[32;42m x \u001b[0m\u001b[36m \u001b[0m│\u001b[36m \u001b[0m\u001b[36m   \u001b[0m\u001b[36m \u001b[0m│\u001b[36m \u001b[0m\u001b[36m   \u001b[0m\u001b[36m \u001b[0m│\u001b[36m \u001b[0m\u001b[36m   \u001b[0m\u001b[36m \u001b[0m│\u001b[36m \u001b[0m\u001b[36m   \u001b[0m\u001b[36m \u001b[0m│\u001b[36m \u001b[0m\u001b[36m   \u001b[0m\u001b[36m \u001b[0m│\n",
       "│\u001b[36m \u001b[0m\u001b[36m   2\u001b[0m\u001b[36m \u001b[0m│\u001b[36m \u001b[0m\u001b[32;42m x \u001b[0m\u001b[36m \u001b[0m│\u001b[36m \u001b[0m\u001b[36m   \u001b[0m\u001b[36m \u001b[0m│\u001b[36m \u001b[0m\u001b[36m   \u001b[0m\u001b[36m \u001b[0m│\u001b[36m \u001b[0m\u001b[36m   \u001b[0m\u001b[36m \u001b[0m│\u001b[36m \u001b[0m\u001b[32;42m x \u001b[0m\u001b[36m \u001b[0m│\u001b[36m \u001b[0m\u001b[36m   \u001b[0m\u001b[36m \u001b[0m│\n",
       "│\u001b[36m \u001b[0m\u001b[36m   3\u001b[0m\u001b[36m \u001b[0m│\u001b[36m \u001b[0m\u001b[32;42m x \u001b[0m\u001b[36m \u001b[0m│\u001b[36m \u001b[0m\u001b[36m   \u001b[0m\u001b[36m \u001b[0m│\u001b[36m \u001b[0m\u001b[36m   \u001b[0m\u001b[36m \u001b[0m│\u001b[36m \u001b[0m\u001b[36m   \u001b[0m\u001b[36m \u001b[0m│\u001b[36m \u001b[0m\u001b[32;42m x \u001b[0m\u001b[36m \u001b[0m│\u001b[36m \u001b[0m\u001b[36m   \u001b[0m\u001b[36m \u001b[0m│\n",
       "│\u001b[36m \u001b[0m\u001b[36m   4\u001b[0m\u001b[36m \u001b[0m│\u001b[36m \u001b[0m\u001b[36m   \u001b[0m\u001b[36m \u001b[0m│\u001b[36m \u001b[0m\u001b[36m   \u001b[0m\u001b[36m \u001b[0m│\u001b[36m \u001b[0m\u001b[36m   \u001b[0m\u001b[36m \u001b[0m│\u001b[36m \u001b[0m\u001b[36m   \u001b[0m\u001b[36m \u001b[0m│\u001b[36m \u001b[0m\u001b[32;42m x \u001b[0m\u001b[36m \u001b[0m│\u001b[36m \u001b[0m\u001b[36m   \u001b[0m\u001b[36m \u001b[0m│\n",
       "│\u001b[36m \u001b[0m\u001b[36m   5\u001b[0m\u001b[36m \u001b[0m│\u001b[36m \u001b[0m\u001b[36m   \u001b[0m\u001b[36m \u001b[0m│\u001b[36m \u001b[0m\u001b[32;42m x \u001b[0m\u001b[36m \u001b[0m│\u001b[36m \u001b[0m\u001b[36m   \u001b[0m\u001b[36m \u001b[0m│\u001b[36m \u001b[0m\u001b[36m   \u001b[0m\u001b[36m \u001b[0m│\u001b[36m \u001b[0m\u001b[36m   \u001b[0m\u001b[36m \u001b[0m│\u001b[36m \u001b[0m\u001b[36m   \u001b[0m\u001b[36m \u001b[0m│\n",
       "│\u001b[36m \u001b[0m\u001b[36m   6\u001b[0m\u001b[36m \u001b[0m│\u001b[36m \u001b[0m\u001b[36m   \u001b[0m\u001b[36m \u001b[0m│\u001b[36m \u001b[0m\u001b[32;42m x \u001b[0m\u001b[36m \u001b[0m│\u001b[36m \u001b[0m\u001b[32;42m x \u001b[0m\u001b[36m \u001b[0m│\u001b[36m \u001b[0m\u001b[36m   \u001b[0m\u001b[36m \u001b[0m│\u001b[36m \u001b[0m\u001b[36m   \u001b[0m\u001b[36m \u001b[0m│\u001b[36m \u001b[0m\u001b[36m   \u001b[0m\u001b[36m \u001b[0m│\n",
       "│\u001b[36m \u001b[0m\u001b[36m   7\u001b[0m\u001b[36m \u001b[0m│\u001b[36m \u001b[0m\u001b[36m   \u001b[0m\u001b[36m \u001b[0m│\u001b[36m \u001b[0m\u001b[32;42m x \u001b[0m\u001b[36m \u001b[0m│\u001b[36m \u001b[0m\u001b[32;42m x \u001b[0m\u001b[36m \u001b[0m│\u001b[36m \u001b[0m\u001b[36m   \u001b[0m\u001b[36m \u001b[0m│\u001b[36m \u001b[0m\u001b[36m   \u001b[0m\u001b[36m \u001b[0m│\u001b[36m \u001b[0m\u001b[36m   \u001b[0m\u001b[36m \u001b[0m│\n",
       "│\u001b[36m \u001b[0m\u001b[36m   8\u001b[0m\u001b[36m \u001b[0m│\u001b[36m \u001b[0m\u001b[36m   \u001b[0m\u001b[36m \u001b[0m│\u001b[36m \u001b[0m\u001b[36m   \u001b[0m\u001b[36m \u001b[0m│\u001b[36m \u001b[0m\u001b[32;42m x \u001b[0m\u001b[36m \u001b[0m│\u001b[36m \u001b[0m\u001b[36m   \u001b[0m\u001b[36m \u001b[0m│\u001b[36m \u001b[0m\u001b[36m   \u001b[0m\u001b[36m \u001b[0m│\u001b[36m \u001b[0m\u001b[36m   \u001b[0m\u001b[36m \u001b[0m│\n",
       "│\u001b[36m \u001b[0m\u001b[36m   9\u001b[0m\u001b[36m \u001b[0m│\u001b[36m \u001b[0m\u001b[36m   \u001b[0m\u001b[36m \u001b[0m│\u001b[36m \u001b[0m\u001b[36m   \u001b[0m\u001b[36m \u001b[0m│\u001b[36m \u001b[0m\u001b[36m   \u001b[0m\u001b[36m \u001b[0m│\u001b[36m \u001b[0m\u001b[32;42m x \u001b[0m\u001b[36m \u001b[0m│\u001b[36m \u001b[0m\u001b[36m   \u001b[0m\u001b[36m \u001b[0m│\u001b[36m \u001b[0m\u001b[36m   \u001b[0m\u001b[36m \u001b[0m│\n",
       "│\u001b[36m \u001b[0m\u001b[36m  10\u001b[0m\u001b[36m \u001b[0m│\u001b[36m \u001b[0m\u001b[36m   \u001b[0m\u001b[36m \u001b[0m│\u001b[36m \u001b[0m\u001b[36m   \u001b[0m\u001b[36m \u001b[0m│\u001b[36m \u001b[0m\u001b[36m   \u001b[0m\u001b[36m \u001b[0m│\u001b[36m \u001b[0m\u001b[32;42m x \u001b[0m\u001b[36m \u001b[0m│\u001b[36m \u001b[0m\u001b[36m   \u001b[0m\u001b[36m \u001b[0m│\u001b[36m \u001b[0m\u001b[36m   \u001b[0m\u001b[36m \u001b[0m│\n",
       "│\u001b[36m \u001b[0m\u001b[36m  11\u001b[0m\u001b[36m \u001b[0m│\u001b[36m \u001b[0m\u001b[36m   \u001b[0m\u001b[36m \u001b[0m│\u001b[36m \u001b[0m\u001b[36m   \u001b[0m\u001b[36m \u001b[0m│\u001b[36m \u001b[0m\u001b[36m   \u001b[0m\u001b[36m \u001b[0m│\u001b[36m \u001b[0m\u001b[36m   \u001b[0m\u001b[36m \u001b[0m│\u001b[36m \u001b[0m\u001b[36m   \u001b[0m\u001b[36m \u001b[0m│\u001b[36m \u001b[0m\u001b[32;42m x \u001b[0m\u001b[36m \u001b[0m│\n",
       "│\u001b[36m \u001b[0m\u001b[36m  12\u001b[0m\u001b[36m \u001b[0m│\u001b[36m \u001b[0m\u001b[36m   \u001b[0m\u001b[36m \u001b[0m│\u001b[36m \u001b[0m\u001b[36m   \u001b[0m\u001b[36m \u001b[0m│\u001b[36m \u001b[0m\u001b[36m   \u001b[0m\u001b[36m \u001b[0m│\u001b[36m \u001b[0m\u001b[36m   \u001b[0m\u001b[36m \u001b[0m│\u001b[36m \u001b[0m\u001b[36m   \u001b[0m\u001b[36m \u001b[0m│\u001b[36m \u001b[0m\u001b[32;42m x \u001b[0m\u001b[36m \u001b[0m│\n",
       "└──────┴─────┴─────┴─────┴─────┴─────┴─────┘\n"
      ]
     },
     "metadata": {},
     "output_type": "display_data"
    },
    {
     "data": {
      "text/html": [
       "<pre style=\"white-space:pre;overflow-x:auto;line-height:normal;font-family:Menlo,'DejaVu Sans Mono',consolas,'Courier New',monospace\"></pre>\n"
      ],
      "text/plain": []
     },
     "metadata": {},
     "output_type": "display_data"
    },
    {
     "name": "stdout",
     "output_type": "stream",
     "text": [
      "\n"
     ]
    }
   ],
   "source": [
    "result = gt.run(\n",
    "  \"dag\",\n",
    "  cases,\n",
    ")"
   ]
  }
 ],
 "metadata": {
  "kernelspec": {
   "display_name": ".venv (3.12.8)",
   "language": "python",
   "name": "python3"
  },
  "language_info": {
   "codemirror_mode": {
    "name": "ipython",
    "version": 3
   },
   "file_extension": ".py",
   "mimetype": "text/x-python",
   "name": "python",
   "nbconvert_exporter": "python",
   "pygments_lexer": "ipython3",
   "version": "3.12.10"
  }
 },
 "nbformat": 4,
 "nbformat_minor": 5
}
