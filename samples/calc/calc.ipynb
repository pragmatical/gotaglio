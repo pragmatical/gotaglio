{
 "cells": [
  {
   "cell_type": "markdown",
   "id": "642b1a65",
   "metadata": {},
   "source": [
    "# Calculator Sample"
   ]
  },
  {
   "cell_type": "markdown",
   "id": "5eb20f16",
   "metadata": {},
   "source": [
    "This is a simple pipeline that demonstrates using an LLM to calculate the value of arithmetic expressions.\n",
    "Each test cases processes a single expression entered by the user. See the [menu](../menu/menu.ipynb) notebook\n",
    "for an example where each test case has multiple turns.\n",
    "\n",
    "Define your pipeline. In this case we're using the `calc` sample defined in [calc.py](./calc.py)."
   ]
  },
  {
   "cell_type": "code",
   "execution_count": 1,
   "id": "92e85100",
   "metadata": {},
   "outputs": [],
   "source": [
    "from calc import calc_pipeline_spec"
   ]
  },
  {
   "cell_type": "markdown",
   "id": "5ce78ae7",
   "metadata": {},
   "source": [
    "Define your test cases. Note that the second case uses a textual description of the expression\n",
    "and that the third case specifies base 16 or hexidecimal for the input."
   ]
  },
  {
   "cell_type": "code",
   "execution_count": 2,
   "id": "509855e9",
   "metadata": {},
   "outputs": [],
   "source": [
    "cases = [\n",
    "  {\n",
    "    \"uuid\": \"6f31c4df-bba6-42cd-a3ae-24f31d5503fa\",\n",
    "    \"keywords\": [\"numbers\"],\n",
    "    \"user\": \"1+1\",\n",
    "    \"base\": 10,\n",
    "    \"answer\": 2\n",
    "  },\n",
    "  {\n",
    "    \"uuid\": \"ceb61568-73c9-4b5e-812f-0fa2df1464f1\",\n",
    "    \"keywords\": [\"text\"],\n",
    "    \"user\": \"one hundred two divided by two\",\n",
    "    \"base\": 10,\n",
    "    \"answer\": 51\n",
    "  },\n",
    "  {\n",
    "    \"uuid\": \"178f2c37-557f-4d89-b48d-4f07e828e6ff\",\n",
    "    \"keywords\": [\"hexidecimal\"],\n",
    "    \"user\": \"ff + a\",\n",
    "    \"base\": 16,\n",
    "    \"answer\": 265\n",
    "  }\n",
    "]"
   ]
  },
  {
   "cell_type": "markdown",
   "id": "04b99f9b",
   "metadata": {},
   "source": [
    "Instantiate the Gotaglio object that runs the pipeline."
   ]
  },
  {
   "cell_type": "code",
   "execution_count": 3,
   "id": "f5941c4e",
   "metadata": {},
   "outputs": [],
   "source": [
    "from gotaglio.gotag import Gotaglio\n",
    "\n",
    "gt = Gotaglio([calc_pipeline_spec])"
   ]
  },
  {
   "cell_type": "markdown",
   "id": "92b61278",
   "metadata": {},
   "source": [
    "Run the calculator pipeline and store the runlog in `result`. The format the results as an annotated transcription a conversation between the\n",
    "`system`, `assistant`, and `user`. Note that this example uses the built-in `perfect` model mock that always provides the correct answer.\n",
    "Once you have set up credentials, you can use a more interesting model like `gpt4o`."
   ]
  },
  {
   "cell_type": "code",
   "execution_count": 4,
   "id": "fb9a1774",
   "metadata": {},
   "outputs": [
    {
     "data": {
      "text/html": [
       "<pre style=\"white-space:pre;overflow-x:auto;line-height:normal;font-family:Menlo,'DejaVu Sans Mono',consolas,'Courier New',monospace\"></pre>\n"
      ],
      "text/plain": []
     },
     "metadata": {},
     "output_type": "display_data"
    },
    {
     "name": "stdout",
     "output_type": "stream",
     "text": [
      "\u001b[3m            Summary for 618a4235-71dc-4f6d-9e04-3bfe96723e59            \u001b[0m\n",
      "┏━━━━━┳━━━━━━━━━━┳━━━━━━┳━━━━━━━━━━━━━┳━━━━━━━━━━━━━━━━━━━━━━━━━━━━━━━━┓\n",
      "┃\u001b[1m \u001b[0m\u001b[1m id\u001b[0m\u001b[1m \u001b[0m┃\u001b[1m \u001b[0m\u001b[1mstatus  \u001b[0m\u001b[1m \u001b[0m┃\u001b[1m \u001b[0m\u001b[1mcost\u001b[0m\u001b[1m \u001b[0m┃\u001b[1m \u001b[0m\u001b[1mkeywords   \u001b[0m\u001b[1m \u001b[0m┃\u001b[1m \u001b[0m\u001b[1muser                          \u001b[0m\u001b[1m \u001b[0m┃\n",
      "┡━━━━━╇━━━━━━━━━━╇━━━━━━╇━━━━━━━━━━━━━╇━━━━━━━━━━━━━━━━━━━━━━━━━━━━━━━━┩\n",
      "│\u001b[36m \u001b[0m\u001b[36m6f3\u001b[0m\u001b[36m \u001b[0m│\u001b[35m \u001b[0m\u001b[1;32mCOMPLETE\u001b[0m\u001b[35m \u001b[0m│ \u001b[1;32m0.00\u001b[0m │ numbers     │ 1+1                            │\n",
      "│\u001b[36m \u001b[0m\u001b[36mceb\u001b[0m\u001b[36m \u001b[0m│\u001b[35m \u001b[0m\u001b[1;32mCOMPLETE\u001b[0m\u001b[35m \u001b[0m│ \u001b[1;32m0.00\u001b[0m │ text        │ one hundred two divided by two │\n",
      "│\u001b[36m \u001b[0m\u001b[36m178\u001b[0m\u001b[36m \u001b[0m│\u001b[35m \u001b[0m\u001b[1;32mCOMPLETE\u001b[0m\u001b[35m \u001b[0m│ \u001b[1;32m0.00\u001b[0m │ hexidecimal │ ff + a                         │\n",
      "└─────┴──────────┴──────┴─────────────┴────────────────────────────────┘\n",
      "\n",
      "Total: \u001b[1;36m3\u001b[0m\n",
      "Complete: \u001b[1;36m3\u001b[0m/\u001b[1;36m3\u001b[0m \u001b[1m(\u001b[0m\u001b[1;36m100.00\u001b[0m%\u001b[1m)\u001b[0m\n",
      "Error: \u001b[1;36m0\u001b[0m/\u001b[1;36m3\u001b[0m \u001b[1m(\u001b[0m\u001b[1;36m0.00\u001b[0m%\u001b[1m)\u001b[0m\n",
      "Passed: \u001b[1;36m3\u001b[0m/\u001b[1;36m3\u001b[0m \u001b[1m(\u001b[0m\u001b[1;36m100.00\u001b[0m%\u001b[1m)\u001b[0m\n",
      "Failed: \u001b[1;36m0\u001b[0m/\u001b[1;36m3\u001b[0m \u001b[1m(\u001b[0m\u001b[1;36m0.00\u001b[0m%\u001b[1m)\u001b[0m\n",
      "\n",
      "\n",
      "Results written to logs\\618a4235-71dc-4f6d-9e04-3bfe96723e59.json\n"
     ]
    },
    {
     "data": {
      "text/html": [
       "<pre style=\"white-space:pre;overflow-x:auto;line-height:normal;font-family:Menlo,'DejaVu Sans Mono',consolas,'Courier New',monospace\"></pre>\n"
      ],
      "text/plain": []
     },
     "metadata": {},
     "output_type": "display_data"
    },
    {
     "data": {
      "text/markdown": [
       "## Run: 618a4235-71dc-4f6d-9e04-3bfe96723e59\n",
       "## Case: 6f3 - PASSED\n",
       "**Keywords:** numbers  \n",
       "\n",
       "\n",
       "**system:**\n",
       "You are a desktop calculator that computes the value of mathematical expressions.\n",
       "The input is base 10.\n",
       "Your output should be just a base 10 numerical result.\n",
       "\n",
       "**user:** _1+1_\n",
       "\n",
       "**assistant:**\n",
       "2.0\n",
       "\n",
       "\n",
       "## Case: ceb - PASSED\n",
       "**Keywords:** text  \n",
       "\n",
       "\n",
       "**system:**\n",
       "You are a desktop calculator that computes the value of mathematical expressions.\n",
       "The input is base 10.\n",
       "Your output should be just a base 10 numerical result.\n",
       "\n",
       "**user:** _one hundred two divided by two_\n",
       "\n",
       "**assistant:**\n",
       "51.0\n",
       "\n",
       "\n",
       "## Case: 178 - PASSED\n",
       "**Keywords:** hexidecimal  \n",
       "\n",
       "\n",
       "**system:**\n",
       "You are a desktop calculator that computes the value of mathematical expressions.\n",
       "The input is base 16.\n",
       "Your output should be just a base 10 numerical result.\n",
       "\n",
       "**user:** _ff + a_\n",
       "\n",
       "**assistant:**\n",
       "265.0\n",
       "\n"
      ],
      "text/plain": [
       "<IPython.core.display.Markdown object>"
      ]
     },
     "metadata": {},
     "output_type": "display_data"
    }
   ],
   "source": [
    "result = gt.run(\n",
    "  \"calc\",\n",
    "  cases,\n",
    "  {\n",
    "    \"prepare.template\": \"data/template.txt\",\n",
    "    \"infer.model.name\": \"perfect\"\n",
    "  },\n",
    "  save=True\n",
    ")\n",
    "gt.format(result)"
   ]
  },
  {
   "cell_type": "markdown",
   "id": "a65930f6",
   "metadata": {},
   "source": [
    "We can rerun this example with a different model, this time the `flakey` mock, which alternately returns the correct answer, returns \"hello world\", and raises an exception. The mock models are good for debugging new pipelines locally, before connecting to a real model."
   ]
  },
  {
   "cell_type": "code",
   "execution_count": 5,
   "id": "da94c282",
   "metadata": {},
   "outputs": [
    {
     "data": {
      "text/html": [
       "<pre style=\"white-space:pre;overflow-x:auto;line-height:normal;font-family:Menlo,'DejaVu Sans Mono',consolas,'Courier New',monospace\"></pre>\n"
      ],
      "text/plain": []
     },
     "metadata": {},
     "output_type": "display_data"
    },
    {
     "name": "stdout",
     "output_type": "stream",
     "text": [
      "\u001b[3m            Summary for 82f910d6-dcc4-4514-a6dc-2023205519ff            \u001b[0m\n",
      "┏━━━━━┳━━━━━━━━━━┳━━━━━━┳━━━━━━━━━━━━━┳━━━━━━━━━━━━━━━━━━━━━━━━━━━━━━━━┓\n",
      "┃\u001b[1m \u001b[0m\u001b[1m id\u001b[0m\u001b[1m \u001b[0m┃\u001b[1m \u001b[0m\u001b[1mstatus  \u001b[0m\u001b[1m \u001b[0m┃\u001b[1m \u001b[0m\u001b[1mcost\u001b[0m\u001b[1m \u001b[0m┃\u001b[1m \u001b[0m\u001b[1mkeywords   \u001b[0m\u001b[1m \u001b[0m┃\u001b[1m \u001b[0m\u001b[1muser                          \u001b[0m\u001b[1m \u001b[0m┃\n",
      "┡━━━━━╇━━━━━━━━━━╇━━━━━━╇━━━━━━━━━━━━━╇━━━━━━━━━━━━━━━━━━━━━━━━━━━━━━━━┩\n",
      "│\u001b[36m \u001b[0m\u001b[36m6f3\u001b[0m\u001b[36m \u001b[0m│\u001b[35m \u001b[0m\u001b[1;32mCOMPLETE\u001b[0m\u001b[35m \u001b[0m│ \u001b[1;32m0.00\u001b[0m │ numbers     │ 1+1                            │\n",
      "│\u001b[36m \u001b[0m\u001b[36mceb\u001b[0m\u001b[36m \u001b[0m│\u001b[35m \u001b[0m\u001b[1;31mERROR   \u001b[0m\u001b[35m \u001b[0m│ \u001b[1;31m    \u001b[0m │ text        │ one hundred two divided by two │\n",
      "│\u001b[36m \u001b[0m\u001b[36m178\u001b[0m\u001b[36m \u001b[0m│\u001b[35m \u001b[0m\u001b[1;31mERROR   \u001b[0m\u001b[35m \u001b[0m│ \u001b[1;31m    \u001b[0m │ hexidecimal │ ff + a                         │\n",
      "└─────┴──────────┴──────┴─────────────┴────────────────────────────────┘\n",
      "\n",
      "Total: \u001b[1;36m3\u001b[0m\n",
      "Complete: \u001b[1;36m1\u001b[0m/\u001b[1;36m3\u001b[0m \u001b[1m(\u001b[0m\u001b[1;36m33.33\u001b[0m%\u001b[1m)\u001b[0m\n",
      "Error: \u001b[1;36m2\u001b[0m/\u001b[1;36m3\u001b[0m \u001b[1m(\u001b[0m\u001b[1;36m66.67\u001b[0m%\u001b[1m)\u001b[0m\n",
      "Passed: \u001b[1;36m1\u001b[0m/\u001b[1;36m3\u001b[0m \u001b[1m(\u001b[0m\u001b[1;36m33.33\u001b[0m%\u001b[1m)\u001b[0m\n",
      "Failed: \u001b[1;36m0\u001b[0m/\u001b[1;36m3\u001b[0m \u001b[1m(\u001b[0m\u001b[1;36m0.00\u001b[0m%\u001b[1m)\u001b[0m\n",
      "\n",
      "\n",
      "Results written to logs\\82f910d6-dcc4-4514-a6dc-2023205519ff.json\n"
     ]
    },
    {
     "data": {
      "text/html": [
       "<pre style=\"white-space:pre;overflow-x:auto;line-height:normal;font-family:Menlo,'DejaVu Sans Mono',consolas,'Courier New',monospace\"></pre>\n"
      ],
      "text/plain": []
     },
     "metadata": {},
     "output_type": "display_data"
    },
    {
     "data": {
      "text/markdown": [
       "## Run: 82f910d6-dcc4-4514-a6dc-2023205519ff\n",
       "## Case: 6f3 - PASSED\n",
       "**Keywords:** numbers  \n",
       "\n",
       "\n",
       "**system:**\n",
       "You are a desktop calculator that computes the value of mathematical expressions.\n",
       "The input is base 10.\n",
       "Your output should be just a base 10 numerical result.\n",
       "\n",
       "**user:** _1+1_\n",
       "\n",
       "**assistant:**\n",
       "2.0\n",
       "\n",
       "\n",
       "## Case: ceb - FAILED\n",
       "**Keywords:** text  \n",
       "\n",
       "\n",
       "### Turn 1: **ERROR**  \n",
       "Error: Context: Extracting numerical answer from LLM response.\n",
       "Error: could not convert string to float: 'hello world'\n",
       "\n",
       "~~~\n",
       "Traceback: Traceback (most recent call last):\n",
       "  File \"C:\\git\\llm-tools\\gotaglio\\gotaglio\\pipeline2.py\", line 129, in process_one_case\n",
       "    await run_dag(dag, result)\n",
       "  File \"C:\\git\\llm-tools\\gotaglio\\gotaglio\\dag.py\", line 104, in run_dag\n",
       "    await run_dag_helper(dag_object, context, stages)\n",
       "  File \"C:\\git\\llm-tools\\gotaglio\\gotaglio\\dag.py\", line 166, in run_dag_helper\n",
       "    (name, result) = task.result()\n",
       "                     ^^^^^^^^^^^^^\n",
       "  File \"C:\\Users\\mhop\\AppData\\Local\\Programs\\Python\\Python312\\Lib\\asyncio\\futures.py\", line 202, in result\n",
       "    raise self._exception.with_traceback(self._exception_tb)\n",
       "  File \"C:\\Users\\mhop\\AppData\\Local\\Programs\\Python\\Python312\\Lib\\asyncio\\tasks.py\", line 314, in \n",
       "__step_run_and_handle_result\n",
       "    result = coro.send(None)\n",
       "             ^^^^^^^^^^^^^^^\n",
       "  File \"C:\\git\\llm-tools\\gotaglio\\gotaglio\\dag.py\", line 91, in run_task\n",
       "    raise e\n",
       "  File \"C:\\git\\llm-tools\\gotaglio\\gotaglio\\dag.py\", line 83, in run_task\n",
       "    result = await dag[\"function\"](context)\n",
       "             ^^^^^^^^^^^^^^^^^^^^^^^^^^^^^^^^^^^^\n",
       "  File \"c:\\git\\llm-tools\\gotaglio\\samples2\\calc\\calc.py\", line 143, in extract\n",
       "    return float(context[\"stages\"][\"infer\"])\n",
       "           ^^^^^^^^^^^^^^^^^^^^^^^^^^^^^^^^^\n",
       "ValueError: could not convert string to float: 'hello world'\n",
       "\n",
       "Time: 2025-08-16 16:39:10.715212+00:00\n",
       "~~~\n",
       "## Case: 178 - FAILED\n",
       "**Keywords:** hexidecimal  \n",
       "\n",
       "\n",
       "### Turn 1: **ERROR**  \n",
       "Error: Error: Flakey model failed\n",
       "\n",
       "~~~\n",
       "Traceback: Traceback (most recent call last):\n",
       "  File \"C:\\git\\llm-tools\\gotaglio\\gotaglio\\pipeline2.py\", line 129, in process_one_case\n",
       "    await run_dag(dag, result)\n",
       "  File \"C:\\git\\llm-tools\\gotaglio\\gotaglio\\dag.py\", line 104, in run_dag\n",
       "    await run_dag_helper(dag_object, context, stages)\n",
       "  File \"C:\\git\\llm-tools\\gotaglio\\gotaglio\\dag.py\", line 166, in run_dag_helper\n",
       "    (name, result) = task.result()\n",
       "                     ^^^^^^^^^^^^^\n",
       "  File \"C:\\Users\\mhop\\AppData\\Local\\Programs\\Python\\Python312\\Lib\\asyncio\\futures.py\", line 202, in result\n",
       "    raise self._exception.with_traceback(self._exception_tb)\n",
       "  File \"C:\\Users\\mhop\\AppData\\Local\\Programs\\Python\\Python312\\Lib\\asyncio\\tasks.py\", line 314, in \n",
       "__step_run_and_handle_result\n",
       "    result = coro.send(None)\n",
       "             ^^^^^^^^^^^^^^^\n",
       "  File \"C:\\git\\llm-tools\\gotaglio\\gotaglio\\dag.py\", line 91, in run_task\n",
       "    raise e\n",
       "  File \"C:\\git\\llm-tools\\gotaglio\\gotaglio\\dag.py\", line 83, in run_task\n",
       "    result = await dag[\"function\"](context)\n",
       "             ^^^^^^^^^^^^^^^^^^^^^^^^^^^^^^^^^^^^\n",
       "  File \"c:\\git\\llm-tools\\gotaglio\\samples2\\calc\\calc.py\", line 136, in infer\n",
       "    return await model.infer(context[\"stages\"][\"prepare\"], context)\n",
       "           ^^^^^^^^^^^^^^^^^^^^^^^^^^^^^^^^^^^^^^^^^^^^^^^^^^^^^^^^\n",
       "  File \"C:\\git\\llm-tools\\gotaglio\\gotaglio\\mocks.py\", line 30, in infer\n",
       "    raise Exception(\"Flakey model failed\")\n",
       "Exception: Flakey model failed\n",
       "\n",
       "Time: 2025-08-16 16:39:10.726994+00:00\n",
       "~~~"
      ],
      "text/plain": [
       "<IPython.core.display.Markdown object>"
      ]
     },
     "metadata": {},
     "output_type": "display_data"
    }
   ],
   "source": [
    "result2 = gt.rerun(\n",
    "  result,\n",
    "  {\n",
    "    \"infer.model.name\": \"flakey\"\n",
    "  },\n",
    "  save=True\n",
    ")\n",
    "gt.format(result2)\n"
   ]
  },
  {
   "cell_type": "markdown",
   "id": "e489e909",
   "metadata": {},
   "source": [
    "Note that we can use the term `\"latest\"` to refer to the most recently generated runlog.\n",
    "We could also pass the first few characters of a run's UUID or we could pass the result\n",
    "object (e.g. `result` or `result2`) directly."
   ]
  },
  {
   "cell_type": "code",
   "execution_count": 6,
   "id": "551be824",
   "metadata": {},
   "outputs": [
    {
     "data": {
      "text/html": [
       "<pre style=\"white-space:pre;overflow-x:auto;line-height:normal;font-family:Menlo,'DejaVu Sans Mono',consolas,'Courier New',monospace\"></pre>\n"
      ],
      "text/plain": []
     },
     "metadata": {},
     "output_type": "display_data"
    },
    {
     "name": "stdout",
     "output_type": "stream",
     "text": [
      "\u001b[3m            Summary for 82f910d6-dcc4-4514-a6dc-2023205519ff            \u001b[0m\n",
      "┏━━━━━┳━━━━━━━━━━┳━━━━━━┳━━━━━━━━━━━━━┳━━━━━━━━━━━━━━━━━━━━━━━━━━━━━━━━┓\n",
      "┃\u001b[1m \u001b[0m\u001b[1m id\u001b[0m\u001b[1m \u001b[0m┃\u001b[1m \u001b[0m\u001b[1mstatus  \u001b[0m\u001b[1m \u001b[0m┃\u001b[1m \u001b[0m\u001b[1mcost\u001b[0m\u001b[1m \u001b[0m┃\u001b[1m \u001b[0m\u001b[1mkeywords   \u001b[0m\u001b[1m \u001b[0m┃\u001b[1m \u001b[0m\u001b[1muser                          \u001b[0m\u001b[1m \u001b[0m┃\n",
      "┡━━━━━╇━━━━━━━━━━╇━━━━━━╇━━━━━━━━━━━━━╇━━━━━━━━━━━━━━━━━━━━━━━━━━━━━━━━┩\n",
      "│\u001b[36m \u001b[0m\u001b[36m6f3\u001b[0m\u001b[36m \u001b[0m│\u001b[35m \u001b[0m\u001b[1;32mCOMPLETE\u001b[0m\u001b[35m \u001b[0m│ \u001b[1;32m0.00\u001b[0m │ numbers     │ 1+1                            │\n",
      "│\u001b[36m \u001b[0m\u001b[36mceb\u001b[0m\u001b[36m \u001b[0m│\u001b[35m \u001b[0m\u001b[1;31mERROR   \u001b[0m\u001b[35m \u001b[0m│ \u001b[1;31m    \u001b[0m │ text        │ one hundred two divided by two │\n",
      "│\u001b[36m \u001b[0m\u001b[36m178\u001b[0m\u001b[36m \u001b[0m│\u001b[35m \u001b[0m\u001b[1;31mERROR   \u001b[0m\u001b[35m \u001b[0m│ \u001b[1;31m    \u001b[0m │ hexidecimal │ ff + a                         │\n",
      "└─────┴──────────┴──────┴─────────────┴────────────────────────────────┘\n",
      "\n",
      "Total: \u001b[1;36m3\u001b[0m\n",
      "Complete: \u001b[1;36m1\u001b[0m/\u001b[1;36m3\u001b[0m \u001b[1m(\u001b[0m\u001b[1;36m33.33\u001b[0m%\u001b[1m)\u001b[0m\n",
      "Error: \u001b[1;36m2\u001b[0m/\u001b[1;36m3\u001b[0m \u001b[1m(\u001b[0m\u001b[1;36m66.67\u001b[0m%\u001b[1m)\u001b[0m\n",
      "Passed: \u001b[1;36m1\u001b[0m/\u001b[1;36m3\u001b[0m \u001b[1m(\u001b[0m\u001b[1;36m33.33\u001b[0m%\u001b[1m)\u001b[0m\n",
      "Failed: \u001b[1;36m0\u001b[0m/\u001b[1;36m3\u001b[0m \u001b[1m(\u001b[0m\u001b[1;36m0.00\u001b[0m%\u001b[1m)\u001b[0m\n",
      "\n",
      "\n"
     ]
    }
   ],
   "source": [
    "gt.summarize(\"latest\")"
   ]
  },
  {
   "cell_type": "markdown",
   "id": "40df8197",
   "metadata": {},
   "source": [
    "Gotaglio allows us to compare the results of two runs."
   ]
  },
  {
   "cell_type": "code",
   "execution_count": 7,
   "id": "0cf7ef01",
   "metadata": {},
   "outputs": [
    {
     "data": {
      "text/html": [
       "<pre style=\"white-space:pre;overflow-x:auto;line-height:normal;font-family:Menlo,'DejaVu Sans Mono',consolas,'Courier New',monospace\"></pre>\n"
      ],
      "text/plain": []
     },
     "metadata": {},
     "output_type": "display_data"
    },
    {
     "name": "stdout",
     "output_type": "stream",
     "text": [
      "Run A: \u001b[93m618a4235-71dc-4f6d-9e04-3bfe96723e59\u001b[0m\n",
      "Run B: \u001b[93m82f910d6-dcc4-4514-a6dc-2023205519ff\u001b[0m\n",
      "\n",
      "\u001b[1;36m0\u001b[0m cases only in A\n",
      "\u001b[1;36m0\u001b[0m cases only in B\n",
      "\u001b[1;36m3\u001b[0m cases in both A and B\n",
      "\n",
      "\u001b[3m               Comparison of A, B               \u001b[0m\n",
      "┏━━━━━━━┳━━━━━━━━━━━━┳━━━━━━━━━━━┳━━━━━━━━━━━━━┓\n",
      "┃\u001b[1m \u001b[0m\u001b[1m   id\u001b[0m\u001b[1m \u001b[0m┃\u001b[1m \u001b[0m\u001b[1m         A\u001b[0m\u001b[1m \u001b[0m┃\u001b[1m \u001b[0m\u001b[1m        B\u001b[0m\u001b[1m \u001b[0m┃\u001b[1m \u001b[0m\u001b[1mkeywords   \u001b[0m\u001b[1m \u001b[0m┃\n",
      "┡━━━━━━━╇━━━━━━━━━━━━╇━━━━━━━━━━━╇━━━━━━━━━━━━━┩\n",
      "│\u001b[36m \u001b[0m\u001b[36m  6f3\u001b[0m\u001b[36m \u001b[0m│\u001b[35m \u001b[0m\u001b[1;32m    passed\u001b[0m\u001b[35m \u001b[0m│\u001b[32m \u001b[0m\u001b[1;32m   passed\u001b[0m\u001b[32m \u001b[0m│\u001b[32m \u001b[0m\u001b[32mnumbers    \u001b[0m\u001b[32m \u001b[0m│\n",
      "│\u001b[36m \u001b[0m\u001b[36m  ceb\u001b[0m\u001b[36m \u001b[0m│\u001b[35m \u001b[0m\u001b[1;32m    passed\u001b[0m\u001b[35m \u001b[0m│\u001b[32m \u001b[0m\u001b[1;31m    error\u001b[0m\u001b[32m \u001b[0m│\u001b[32m \u001b[0m\u001b[32mtext       \u001b[0m\u001b[32m \u001b[0m│\n",
      "│\u001b[36m \u001b[0m\u001b[36m  178\u001b[0m\u001b[36m \u001b[0m│\u001b[35m \u001b[0m\u001b[1;32m    passed\u001b[0m\u001b[35m \u001b[0m│\u001b[32m \u001b[0m\u001b[1;31m    error\u001b[0m\u001b[32m \u001b[0m│\u001b[32m \u001b[0m\u001b[32mhexidecimal\u001b[0m\u001b[32m \u001b[0m│\n",
      "├───────┼────────────┼───────────┼─────────────┤\n",
      "│\u001b[1m \u001b[0m\u001b[1mTotal\u001b[0m\u001b[1m \u001b[0m│\u001b[1m \u001b[0m\u001b[1m3/3 (100%)\u001b[0m\u001b[1m \u001b[0m│\u001b[1m \u001b[0m\u001b[1m1/3 (33%)\u001b[0m\u001b[1m \u001b[0m│\u001b[1m \u001b[0m\u001b[1m           \u001b[0m\u001b[1m \u001b[0m│\n",
      "└───────┴────────────┴───────────┴─────────────┘\n",
      "\n",
      "\n"
     ]
    }
   ],
   "source": [
    "gt.compare(result, result2)"
   ]
  }
 ],
 "metadata": {
  "kernelspec": {
   "display_name": ".venv (3.12.8)",
   "language": "python",
   "name": "python3"
  },
  "language_info": {
   "codemirror_mode": {
    "name": "ipython",
    "version": 3
   },
   "file_extension": ".py",
   "mimetype": "text/x-python",
   "name": "python",
   "nbconvert_exporter": "python",
   "pygments_lexer": "ipython3",
   "version": "3.12.10"
  }
 },
 "nbformat": 4,
 "nbformat_minor": 5
}
