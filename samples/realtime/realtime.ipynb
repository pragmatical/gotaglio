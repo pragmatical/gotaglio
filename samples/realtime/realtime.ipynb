{
 "cells": [
  {
   "cell_type": "markdown",
   "id": "885d24e2",
   "metadata": {},
   "source": [
    "# Realtime pipeline demo\n",
    "This notebook shows how to run the `realtime` sample pipeline with a local WAV file."
   ]
  },
  {
   "cell_type": "code",
   "execution_count": 1,
   "id": "71844441",
   "metadata": {},
   "outputs": [],
   "source": [
    "# Configure sys.path so we can import gotaglio from this repo\n",
    "import os, sys\n",
    "sys.path.append(os.path.abspath(os.path.join(os.path.dirname('__file__'), '../..')))"
   ]
  },
  {
   "cell_type": "code",
   "execution_count": null,
   "id": "5cab78f4",
   "metadata": {},
   "outputs": [
    {
     "data": {
      "text/plain": [
       "[{'uuid': '00000000-0000-0000-0000-000000000001', 'audio': '{audio_file}'}]"
      ]
     },
     "execution_count": 7,
     "metadata": {},
     "output_type": "execute_result"
    }
   ],
   "source": [
    "# Prepare a minimal cases list in-memory\n",
    "cases = [\n",
    "    { 'uuid': '00000000-0000-0000-0000-000000000001', 'audio': 'data/sample_audio.m4a' }\n",
    "]\n",
    "cases"
   ]
  },
  {
   "cell_type": "code",
   "execution_count": null,
   "id": "4647f054",
   "metadata": {},
   "outputs": [
    {
     "data": {
      "text/html": [
       "<pre style=\"white-space:pre;overflow-x:auto;line-height:normal;font-family:Menlo,'DejaVu Sans Mono',consolas,'Courier New',monospace\"></pre>\n"
      ],
      "text/plain": []
     },
     "metadata": {},
     "output_type": "display_data"
    },
    {
     "name": "stdout",
     "output_type": "stream",
     "text": [
      "\u001b[3m              Summary for               \u001b[0m\n",
      "\u001b[3m  eb8fa702-13ae-40fd-aeb7-775d6a6869b5  \u001b[0m\n",
      "┏━━━━━┳━━━━━━━━━━┳━━━━━━━━┳━━━━━━━━━━━━┓\n",
      "┃\u001b[1m \u001b[0m\u001b[1m id\u001b[0m\u001b[1m \u001b[0m┃\u001b[1m \u001b[0m\u001b[1mstatus  \u001b[0m\u001b[1m \u001b[0m┃\u001b[1m \u001b[0m\u001b[1mevents\u001b[0m\u001b[1m \u001b[0m┃\u001b[1m \u001b[0m\u001b[1mtranscript\u001b[0m\u001b[1m \u001b[0m┃\n",
      "┡━━━━━╇━━━━━━━━━━╇━━━━━━━━╇━━━━━━━━━━━━┩\n",
      "│\u001b[36m \u001b[0m\u001b[36m000\u001b[0m\u001b[36m \u001b[0m│\u001b[35m \u001b[0m\u001b[1;32mCOMPLETE\u001b[0m\u001b[35m \u001b[0m│ 1      │            │\n",
      "└─────┴──────────┴────────┴────────────┘\n",
      "\n",
      "Total: \u001b[1;36m1\u001b[0m\n",
      "Complete: \u001b[1;36m1\u001b[0m/\u001b[1;36m1\u001b[0m \u001b[1m(\u001b[0m\u001b[1;36m100.00\u001b[0m%\u001b[1m)\u001b[0m\n",
      "Error: \u001b[1;36m0\u001b[0m/\u001b[1;36m1\u001b[0m \u001b[1m(\u001b[0m\u001b[1;36m0.00\u001b[0m%\u001b[1m)\u001b[0m\n",
      "Passed: \u001b[1;36m0\u001b[0m/\u001b[1;36m1\u001b[0m \u001b[1m(\u001b[0m\u001b[1;36m0.00\u001b[0m%\u001b[1m)\u001b[0m\n",
      "Failed: \u001b[1;36m1\u001b[0m/\u001b[1;36m1\u001b[0m \u001b[1m(\u001b[0m\u001b[1;36m100.00\u001b[0m%\u001b[1m)\u001b[0m\n",
      "\n",
      "\n",
      "Results written to logs/eb8fa702-13ae-40fd-aeb7-775d6a6869b5.json\n"
     ]
    },
    {
     "data": {
      "text/plain": [
       "1"
      ]
     },
     "execution_count": 10,
     "metadata": {},
     "output_type": "execute_result"
    }
   ],
   "source": [
    "# Run the realtime pipeline using the Gotaglio object (like the menu sample)\n",
    "from gotaglio.gotag import Gotaglio\n",
    "from realtime import realtime_pipeline_spec\n",
    "\n",
    "# Instantiate Gotaglio with the realtime pipeline spec\n",
    "gt = Gotaglio([realtime_pipeline_spec])\n",
    "\n",
    "# Provide flat (dotted) config keys just like CLI patches\n",
    "result = gt.run(\n",
    "    \"realtime\",\n",
    "    cases,\n",
    "    {\n",
    "        \"infer.model.name\": \"azure-realtime\",\n",
    "        # Point to your audio file; the first case can also use a placeholder\n",
    "        \"realtime.audio_file\": \"foobar.wav\",\n",
    "        # Optional knobs passed to the model\n",
    "        \"infer.model.settings.sample_rate_hz\": 16000,\n",
    "        \"infer.model.settings.timeout_s\": 30,\n",
    "    },\n",
    "    save=True,  # Save a run log JSON into the logs/ directory\n",
    ")\n",
    "\n",
    "# Show number of cases processed\n",
    "len(result[\"results\"])"
   ]
  },
  {
   "cell_type": "code",
   "execution_count": 4,
   "id": "5d63188c",
   "metadata": {},
   "outputs": [
    {
     "data": {
      "text/plain": [
       "(0, 0)"
      ]
     },
     "execution_count": 4,
     "metadata": {},
     "output_type": "execute_result"
    }
   ],
   "source": [
    "# Inspect transcript and events for the first case\n",
    "first = result[\"results\"][0]\n",
    "transcript = first[\"stages\"].get(\"infer\", \"\")\n",
    "events = first.get(\"realtime_events\") or first[\"stages\"].get(\"realtime_events\")\n",
    "len(transcript), (0 if events is None else len(events))"
   ]
  },
  {
   "cell_type": "code",
   "execution_count": null,
   "id": "54fdd67f",
   "metadata": {},
   "outputs": [],
   "source": [
    "# Show the latest saved run log file in logs/\n",
    "from gotaglio.constants import app_configuration\n",
    "from gotaglio.shared import get_files_sorted_by_creation, read_json_file\n",
    "import os\n",
    "\n",
    "logs_dir = app_configuration[\"log_folder\"]\n",
    "latest = get_files_sorted_by_creation(logs_dir)[-1][0] if os.path.isdir(logs_dir) and get_files_sorted_by_creation(logs_dir) else None\n",
    "log_path = os.path.join(logs_dir, f\"{latest}.json\") if latest else None\n",
    "log_path"
   ]
  },
  {
   "cell_type": "code",
   "execution_count": null,
   "id": "bf184965",
   "metadata": {},
   "outputs": [],
   "source": [
    "# Load and peek at the saved run log (metadata + result count)\n",
    "if log_path and os.path.isfile(log_path):\n",
    "    runlog = read_json_file(log_path)\n",
    "    {\n",
    "        \"uuid\": runlog.get(\"uuid\"),\n",
    "        \"pipeline\": runlog.get(\"metadata\", {}).get(\"pipeline\", {}).get(\"name\"),\n",
    "        \"cases\": len(runlog.get(\"results\", [])),\n",
    "        \"file\": log_path,\n",
    "    }\n",
    "else:\n",
    "    \"No log found yet. Re-run the previous cell with save=True.\""
   ]
  }
 ],
 "metadata": {
  "kernelspec": {
   "display_name": ".venv",
   "language": "python",
   "name": "python3"
  },
  "language_info": {
   "codemirror_mode": {
    "name": "ipython",
    "version": 3
   },
   "file_extension": ".py",
   "mimetype": "text/x-python",
   "name": "python",
   "nbconvert_exporter": "python",
   "pygments_lexer": "ipython3",
   "version": "3.12.11"
  }
 },
 "nbformat": 4,
 "nbformat_minor": 5
}
