{
 "cells": [
  {
   "cell_type": "markdown",
   "id": "885d24e2",
   "metadata": {},
   "source": [
    "# Realtime pipeline demo\n",
    "This notebook shows how to run the `realtime` sample pipeline with a local WAV file."
   ]
  },
  {
   "cell_type": "code",
   "execution_count": 1,
   "id": "71844441",
   "metadata": {},
   "outputs": [],
   "source": [
    "# Configure sys.path so we can import gotaglio from this repo\n",
    "import os, sys\n",
    "sys.path.append(os.path.abspath(os.path.join(os.path.dirname('__file__'), '../..')))"
   ]
  },
  {
   "cell_type": "code",
   "execution_count": 2,
   "id": "5cab78f4",
   "metadata": {},
   "outputs": [],
   "source": [
    "# Example cases; replace placeholder with configuration[\"realtime\"][\"audio_file\"] if desired\n",
    "cases = [\n",
    "    { 'uuid': '00000000-0000-0000-0000-000000000002', 'audio': 'data/sample.wav' }\n",
    "]"
   ]
  },
  {
   "cell_type": "code",
   "execution_count": 3,
   "id": "4647f054",
   "metadata": {},
   "outputs": [
    {
     "data": {
      "text/html": [
       "<pre style=\"white-space:pre;overflow-x:auto;line-height:normal;font-family:Menlo,'DejaVu Sans Mono',consolas,'Courier New',monospace\"></pre>\n"
      ],
      "text/plain": []
     },
     "metadata": {},
     "output_type": "display_data"
    },
    {
     "name": "stdout",
     "output_type": "stream",
     "text": [
      "\u001b[3m              Summary for               \u001b[0m\n",
      "\u001b[3m  a6abfc8e-b1eb-4c37-a500-db3787273196  \u001b[0m\n",
      "┏━━━━━┳━━━━━━━━━━┳━━━━━━━━┳━━━━━━━━━━━━┓\n",
      "┃\u001b[1m \u001b[0m\u001b[1m id\u001b[0m\u001b[1m \u001b[0m┃\u001b[1m \u001b[0m\u001b[1mstatus  \u001b[0m\u001b[1m \u001b[0m┃\u001b[1m \u001b[0m\u001b[1mevents\u001b[0m\u001b[1m \u001b[0m┃\u001b[1m \u001b[0m\u001b[1mtranscript\u001b[0m\u001b[1m \u001b[0m┃\n",
      "┡━━━━━╇━━━━━━━━━━╇━━━━━━━━╇━━━━━━━━━━━━┩\n",
      "│\u001b[36m \u001b[0m\u001b[36m000\u001b[0m\u001b[36m \u001b[0m│\u001b[35m \u001b[0m\u001b[1;32mCOMPLETE\u001b[0m\u001b[35m \u001b[0m│ 47     │            │\n",
      "└─────┴──────────┴────────┴────────────┘\n",
      "\n",
      "Total: \u001b[1;36m1\u001b[0m\n",
      "Complete: \u001b[1;36m1\u001b[0m/\u001b[1;36m1\u001b[0m \u001b[1m(\u001b[0m\u001b[1;36m100.00\u001b[0m%\u001b[1m)\u001b[0m\n",
      "Error: \u001b[1;36m0\u001b[0m/\u001b[1;36m1\u001b[0m \u001b[1m(\u001b[0m\u001b[1;36m0.00\u001b[0m%\u001b[1m)\u001b[0m\n",
      "Passed: \u001b[1;36m0\u001b[0m/\u001b[1;36m1\u001b[0m \u001b[1m(\u001b[0m\u001b[1;36m0.00\u001b[0m%\u001b[1m)\u001b[0m\n",
      "Failed: \u001b[1;36m1\u001b[0m/\u001b[1;36m1\u001b[0m \u001b[1m(\u001b[0m\u001b[1;36m100.00\u001b[0m%\u001b[1m)\u001b[0m\n",
      "\n",
      "\n",
      "Results written to logs/a6abfc8e-b1eb-4c37-a500-db3787273196.json\n"
     ]
    },
    {
     "data": {
      "text/plain": [
       "1"
      ]
     },
     "execution_count": 3,
     "metadata": {},
     "output_type": "execute_result"
    }
   ],
   "source": [
    "# Run the realtime pipeline using the Gotaglio object (like the menu sample)\n",
    "from gotaglio.gotag import Gotaglio\n",
    "from realtime import realtime_pipeline_spec\n",
    "\n",
    "# Instantiate Gotaglio with the realtime pipeline spec\n",
    "gt = Gotaglio([realtime_pipeline_spec])\n",
    "\n",
    "# Provide flat (dotted) config keys just like CLI patches\n",
    "result = gt.run(\n",
    "    \"realtime\",\n",
    "    cases,\n",
    "    {\n",
    "        \"infer.model.name\": \"azure-realtime\",\n",
    "        # Point to your audio file; the first case can also use a placeholder\n",
    "        \"realtime.audio_file\": \"foobar.wav\",\n",
    "        # Optional knobs passed to the model\n",
    "        \"infer.model.settings.sample_rate_hz\": 16000,\n",
    "        \"infer.model.settings.timeout_s\": 30,\n",
    "        \"infer.model.realtime.instructions\": \"Translate audio to spanish.\"\n",
    "    },\n",
    "    save=True,  # Save a run log JSON into the logs/ directory\n",
    ")\n",
    "\n",
    "# Show number of cases processed\n",
    "len(result[\"results\"])"
   ]
  }
 ],
 "metadata": {
  "kernelspec": {
   "display_name": ".venv",
   "language": "python",
   "name": "python3"
  },
  "language_info": {
   "codemirror_mode": {
    "name": "ipython",
    "version": 3
   },
   "file_extension": ".py",
   "mimetype": "text/x-python",
   "name": "python",
   "nbconvert_exporter": "python",
   "pygments_lexer": "ipython3",
   "version": "3.12.11"
  }
 },
 "nbformat": 4,
 "nbformat_minor": 5
}
