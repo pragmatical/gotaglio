{
 "cells": [
  {
   "cell_type": "markdown",
   "id": "885d24e2",
   "metadata": {},
   "source": [
    "# Realtime pipeline demo\n",
    "This notebook shows how to run the `realtime` sample pipeline with a local WAV file."
   ]
  },
  {
   "cell_type": "code",
   "execution_count": null,
   "id": "71844441",
   "metadata": {},
   "outputs": [],
   "source": [
    "# Configure sys.path so we can import gotaglio from this repo\n",
    "import os, sys\n",
    "sys.path.append(os.path.abspath(os.path.join(os.path.dirname('__file__'), '../..')))"
   ]
  },
  {
   "cell_type": "code",
   "execution_count": null,
   "id": "5cab78f4",
   "metadata": {},
   "outputs": [],
   "source": [
    "# Example cases; replace placeholder with configuration[\"realtime\"][\"audio_file\"] if desired\n",
    "cases = [\n",
    "    { 'uuid': '00000000-0000-0000-0000-000000000002', 'audio': 'data/sample.wav' }\n",
    "]"
   ]
  },
  {
   "cell_type": "code",
   "execution_count": null,
   "id": "4647f054",
   "metadata": {},
   "outputs": [],
   "source": [
    "# Run the realtime pipeline using the Gotaglio object (like the menu sample)\n",
    "from gotaglio.gotag import Gotaglio\n",
    "from realtime import realtime_pipeline_spec\n",
    "\n",
    "# Instantiate Gotaglio with the realtime pipeline spec\n",
    "gt = Gotaglio([realtime_pipeline_spec])\n",
    "\n",
    "# Provide flat (dotted) config keys just like CLI patches\n",
    "result = gt.run(\n",
    "    \"realtime\",\n",
    "    cases,\n",
    "    {\n",
    "        \"infer.model.name\": \"azure-realtime\",\n",
    "        # Point to your audio file; the first case can also use a placeholder\n",
    "        \"realtime.audio_file\": \"foobar.wav\",\n",
    "        # Optional knobs passed to the model\n",
    "        \"infer.model.settings.sample_rate_hz\": 16000,\n",
    "        \"infer.model.settings.timeout_s\": 30,\n",
    "    },\n",
    "    save=True,  # Save a run log JSON into the logs/ directory\n",
    ")\n",
    "\n",
    "# Show number of cases processed\n",
    "len(result[\"results\"])"
   ]
  },
  {
   "cell_type": "code",
   "execution_count": null,
   "id": "5d63188c",
   "metadata": {},
   "outputs": [],
   "source": [
    "# Inspect transcript and events for the first case\n",
    "first = result[\"results\"][0]\n",
    "transcript = first[\"stages\"].get(\"infer\", \"\")\n",
    "events = first.get(\"realtime_events\") or first[\"stages\"].get(\"realtime_events\")\n",
    "len(transcript), (0 if events is None else len(events))"
   ]
  },
  {
   "cell_type": "code",
   "execution_count": null,
   "id": "54fdd67f",
   "metadata": {},
   "outputs": [],
   "source": [
    "# Show the latest saved run log file in logs/\n",
    "from gotaglio.constants import app_configuration\n",
    "from gotaglio.shared import get_files_sorted_by_creation, read_json_file\n",
    "import os\n",
    "\n",
    "logs_dir = app_configuration[\"log_folder\"]\n",
    "latest = get_files_sorted_by_creation(logs_dir)[-1][0] if os.path.isdir(logs_dir) and get_files_sorted_by_creation(logs_dir) else None\n",
    "log_path = os.path.join(logs_dir, f\"{latest}.json\") if latest else None\n",
    "log_path"
   ]
  },
  {
   "cell_type": "code",
   "execution_count": null,
   "id": "bf184965",
   "metadata": {},
   "outputs": [],
   "source": [
    "# Override config example\n",
    "configuration[\"realtime\"][\"audio_file\"] = \"foobar.wav\"\n",
    "print(\"Replaced realtime.audio_file with:\", configuration[\"realtime\"][\"audio_file\"])"
   ]
  }
 ],
 "metadata": {
  "kernelspec": {
   "display_name": ".venv",
   "language": "python",
   "name": "python3"
  },
  "language_info": {
   "codemirror_mode": {
    "name": "ipython",
    "version": 3
   },
   "file_extension": ".py",
   "mimetype": "text/x-python",
   "name": "python",
   "nbconvert_exporter": "python",
   "pygments_lexer": "ipython3",
   "version": "3.12.11"
  }
 },
 "nbformat": 4,
 "nbformat_minor": 5
}
